{
  "cells": [
    {
      "cell_type": "markdown",
      "metadata": {
        "id": "2SJE6_WPb_ot"
      },
      "source": [
        "# Chapter Zero: Facts about sets"
      ]
    },
    {
      "cell_type": "markdown",
      "metadata": {
        "id": "zlbV0Bw_b_o5"
      },
      "source": [
        "## Create a simple if then statement\n",
        "\n",
        "In logic `if... then...` is represented by `->`\n",
        "\n",
        "\n",
        "In python we use an `if... else...` as seen below:\n",
        "\n",
        "```\n",
        "if condition:\n",
        "    do something\n",
        "else:\n",
        "    do something else\n",
        "```\n",
        "\n",
        " The `if` condition is the `if... then...` and the `else` encompases everything past the `if... then...`\n",
        "\n",
        "\n",
        "Below is a simple if else to compare if one quantity is greater than another"
      ]
    },
    {
      "cell_type": "code",
      "execution_count": null,
      "metadata": {
        "id": "DVvzk-UFb_o7",
        "outputId": "370d69c2-0b18-4434-a989-91a75a1fbc83"
      },
      "outputs": [
        {
          "name": "stdout",
          "output_type": "stream",
          "text": [
            "False\n"
          ]
        }
      ],
      "source": [
        "a = 2\n",
        "b = 3\n",
        "\n",
        "if a > b:\n",
        "    print(True)\n",
        "else:\n",
        "    print(False)"
      ]
    },
    {
      "cell_type": "markdown",
      "metadata": {
        "id": "hBK916Pjb_o_"
      },
      "source": [
        "What if we want to compare all of the operators\n",
        "\n",
        "Not just greater than\n",
        "\n",
        "We would want to make somehting like a general comparison function.\n",
        "\n",
        "Something that took two quantities and an operator then evaluated its truthyness\n",
        "\n",
        "Like this sudo code below:\n",
        "\n",
        "```\n",
        "SUDO CODE\n",
        "if a \"operator\" b then do something\n",
        "\n",
        "where \"operatop\" exists in set {'>','<','>=','<=','=='}\n",
        "```"
      ]
    },
    {
      "cell_type": "code",
      "execution_count": null,
      "metadata": {
        "id": "IQUmuXmqb_pD",
        "outputId": "5844ad78-fbed-487f-ddf7-740338584b9d"
      },
      "outputs": [
        {
          "name": "stdout",
          "output_type": "stream",
          "text": [
            "2> 3:  False\n",
            "2< 3:  True\n",
            "2>=3:  False\n",
            "2<=3:  True\n",
            "2==3:  False\n"
          ]
        }
      ],
      "source": [
        "import operator\n",
        "\n",
        "def get_truth(a, op, b):\n",
        "    ops = {'>': operator.gt,\n",
        "           '<': operator.lt,\n",
        "           '>=': operator.ge,\n",
        "           '<=': operator.le,\n",
        "           '==': operator.eq}\n",
        "    # not sure \n",
        "    return ops[op](a, b)\n",
        "\n",
        "print(f\"{a}> {b}:  {get_truth(a, '>', b)}\")\n",
        "print(f\"{a}< {b}:  {get_truth(a, '<', b)}\")\n",
        "print(f\"{a}>={b}:  {get_truth(a, '>=', b)}\")\n",
        "print(f\"{a}<={b}:  {get_truth(a, '<=', b)}\")\n",
        "print(f\"{a}=={b}:  {get_truth(a, '==', b)}\")"
      ]
    },
    {
      "cell_type": "markdown",
      "metadata": {
        "id": "1YsCKnywb_pI"
      },
      "source": [
        "Here you can see that instead of an `if... else...` statement we use a more general function `get_truth(quantity1, operator, quantity2)`\n",
        "\n",
        "What we can do with this is start to teach computers things about quantities.\n",
        "\n",
        "Really just about numbers since the operators in this settins only work with numerical quantities.\n",
        "\n",
        "This is where the magic happens, we can figure out logic without even having to evaluate the opperand."
      ]
    },
    {
      "cell_type": "markdown",
      "metadata": {
        "id": "XdKhgY_pb_pJ"
      },
      "source": [
        "## Introduction to simple neural networks\n",
        "\n",
        "A neural network is a simple device that allows you to take an input and produce and output.\n",
        "\n",
        "In this case our network would take an input vector of 2 numbers say `[1,2]` and produce an output vector of booleans e.g. `True` or `False` but for each operator in our operator set `{'>','<','>=','<=','=='}`\n",
        "\n",
        "So essitially if our input is `[1,2]` our output vector would be `[False, True, False, True, False]`. However in order for our simple neural network to read our data we will need to convert our boolean vector to `[0,1,0,1,0]` instead.\n",
        "\n",
        "Since the input will be a 2x1 vecor of dense inputs and the output will be a 5x1 vector of sparse outputs it will be easier to learn dense to sparse, than the other way around.\n",
        "\n",
        "To train a network to learn this code without actually programming the logic, we will need to produce a set of examples.\n",
        "\n",
        "Our input data will be 10k samples of pairs of randomly generated numbers and our output data will be 10k vectors each of length 5.\n",
        "\n",
        "First lets geberate our input, then let's generate our output.\n",
        "\n",
        "### Generating our training data"
      ]
    },
    {
      "cell_type": "code",
      "execution_count": null,
      "metadata": {
        "id": "ZAmw67oxb_pO",
        "outputId": "9dc872a5-fc0c-4423-e333-a5cfdf2edbf9"
      },
      "outputs": [
        {
          "data": {
            "text/plain": [
              "(array([ 1.48509921, -1.63456172]), array([1, 0, 1, 0, 0]))"
            ]
          },
          "execution_count": 21,
          "metadata": {},
          "output_type": "execute_result"
        }
      ],
      "source": [
        "import numpy as np\n",
        "\n",
        "# generate a vector of random number shape (10000,2)\n",
        "input_vec = np.random.randn(10000, 2)\n",
        "\n",
        "# Create a function that take an input pair and prodcues length 5 vector\n",
        "def generate_output(input_vec):\n",
        "    a, b = input_vec\n",
        "    ops = ['>','<','>=','<=','==']\n",
        "    return np.array(\n",
        "        [int(get_truth(a, op, b)) for op in ops]\n",
        "    )\n",
        "\n",
        "# Let's look at the first example that we generated\n",
        "input_vec[0], generate_output(input_vec[0])"
      ]
    },
    {
      "cell_type": "code",
      "execution_count": null,
      "metadata": {
        "id": "eHJnQN73b_pS",
        "outputId": "e34aca2c-7736-43a1-9973-7a170eba6ac6"
      },
      "outputs": [
        {
          "data": {
            "text/plain": [
              "(array([[ 1.48509921, -1.63456172],\n",
              "        [-2.05120001, -0.44073276],\n",
              "        [-0.44400254, -0.40290586],\n",
              "        [ 0.01379537,  1.21099693],\n",
              "        [-1.06086683, -0.00742199]]),\n",
              " array([[1, 0, 1, 0, 0],\n",
              "        [0, 1, 0, 1, 0],\n",
              "        [0, 1, 0, 1, 0],\n",
              "        [0, 1, 0, 1, 0],\n",
              "        [0, 1, 0, 1, 0]]))"
            ]
          },
          "execution_count": 23,
          "metadata": {},
          "output_type": "execute_result"
        }
      ],
      "source": [
        "# Now crete our output that we are interested in learning\n",
        "# by applying the output function along the axis of our input\n",
        "\n",
        "output_vec = np.apply_along_axis(generate_output, 1, input_vec)\n",
        "\n",
        "input_vec[0:5], output_vec[0:5]"
      ]
    },
    {
      "cell_type": "markdown",
      "metadata": {
        "id": "7AS41S7yb_pT"
      },
      "source": [
        "## Building a simple neural network\n",
        "\n",
        "Now that we have generated our training data we can work on:\n",
        "\n",
        "1. putting the data into the proper data format for torch\n",
        "2. create our simple test case network for 2x10x5\n",
        "3. experiment with larger networks if simple network not enough\n",
        "\n",
        "Some of the issues I see arrising from our early network experimentation are that we have very unbalanced class situation meaning that there will be very few or no examples of equality, since they are randomly drawn.\n",
        "\n",
        "Also because it is sample from a random normal the range of the network will be small and useless for larger numbers.\n",
        "\n",
        "However let's experiment and see if any of this is true."
      ]
    },
    {
      "cell_type": "code",
      "source": [],
      "metadata": {
        "id": "PfIxogYU0GCJ"
      },
      "execution_count": null,
      "outputs": []
    }
  ],
  "metadata": {
    "kernelspec": {
      "display_name": "math_logic",
      "language": "python",
      "name": "python3"
    },
    "language_info": {
      "codemirror_mode": {
        "name": "ipython",
        "version": 3
      },
      "file_extension": ".py",
      "mimetype": "text/x-python",
      "name": "python",
      "nbconvert_exporter": "python",
      "pygments_lexer": "ipython3",
      "version": "3.10.6"
    },
    "orig_nbformat": 4,
    "vscode": {
      "interpreter": {
        "hash": "6c47c6a4b08e1ef3ae15ef1b034b2e0b06c49a5e0b38b824d30a3e22dc0e98d6"
      }
    },
    "colab": {
      "provenance": []
    }
  },
  "nbformat": 4,
  "nbformat_minor": 0
}